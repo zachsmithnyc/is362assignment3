{
 "cells": [
  {
   "cell_type": "markdown",
   "id": "0cb6365c",
   "metadata": {},
   "source": [
    "# Assignment 3\n",
    "\n",
    "The first thing we need to do is import pandas and numpy"
   ]
  },
  {
   "cell_type": "code",
   "execution_count": 2,
   "id": "968ab666",
   "metadata": {},
   "outputs": [],
   "source": [
    "import pandas as pd\n",
    "import numpy as np"
   ]
  },
  {
   "cell_type": "markdown",
   "id": "34543b3f",
   "metadata": {},
   "source": [
    "Next we're going to use numpy to generate a random array of numbers to represent the miles ridden over the course of a month. So we will need 30 values for the days in the month. We will assume that a reasonable biking distance for us is between 20 and 70 miles. "
   ]
  },
  {
   "cell_type": "code",
   "execution_count": 6,
   "id": "522c8ad7",
   "metadata": {},
   "outputs": [
    {
     "data": {
      "text/plain": [
       "array([55, 31, 60, 36, 30, 60, 52, 54, 70, 39, 62, 36, 48, 50, 30, 29, 31,\n",
       "       54, 51, 68, 56, 32, 66, 68, 57, 54, 26, 24, 33, 42])"
      ]
     },
     "execution_count": 6,
     "metadata": {},
     "output_type": "execute_result"
    }
   ],
   "source": [
    "rng = np.random.default_rng(12345)\n",
    "bike_miles = rng.integers(low=20, high=71, size=30)\n",
    "bike_miles"
   ]
  },
  {
   "cell_type": "markdown",
   "id": "03a4d2a1",
   "metadata": {},
   "source": [
    "Since we are calculating daily totals for a month we are also going to index these values starting at 1 and ending at 30. We can easily create this using numpy's arange"
   ]
  },
  {
   "cell_type": "code",
   "execution_count": 11,
   "id": "5c24ed7d",
   "metadata": {},
   "outputs": [
    {
     "data": {
      "text/plain": [
       "array([ 1,  2,  3,  4,  5,  6,  7,  8,  9, 10, 11, 12, 13, 14, 15, 16, 17,\n",
       "       18, 19, 20, 21, 22, 23, 24, 25, 26, 27, 28, 29, 30])"
      ]
     },
     "execution_count": 11,
     "metadata": {},
     "output_type": "execute_result"
    }
   ],
   "source": [
    "days = np.arange(1, 31)\n",
    "days"
   ]
  },
  {
   "cell_type": "markdown",
   "id": "e9fc5383",
   "metadata": {},
   "source": [
    "Now we can takes these two arrays and use them to initialize a series object holding the daily bike mileage. "
   ]
  },
  {
   "cell_type": "code",
   "execution_count": 12,
   "id": "973b14d3",
   "metadata": {},
   "outputs": [
    {
     "data": {
      "text/plain": [
       "1     55\n",
       "2     31\n",
       "3     60\n",
       "4     36\n",
       "5     30\n",
       "6     60\n",
       "7     52\n",
       "8     54\n",
       "9     70\n",
       "10    39\n",
       "11    62\n",
       "12    36\n",
       "13    48\n",
       "14    50\n",
       "15    30\n",
       "16    29\n",
       "17    31\n",
       "18    54\n",
       "19    51\n",
       "20    68\n",
       "21    56\n",
       "22    32\n",
       "23    66\n",
       "24    68\n",
       "25    57\n",
       "26    54\n",
       "27    26\n",
       "28    24\n",
       "29    33\n",
       "30    42\n",
       "dtype: int64"
      ]
     },
     "execution_count": 12,
     "metadata": {},
     "output_type": "execute_result"
    }
   ],
   "source": [
    "s_miles = pd.Series(bike_miles, days)\n",
    "s_miles"
   ]
  },
  {
   "cell_type": "markdown",
   "id": "0945e357",
   "metadata": {},
   "source": [
    "Now to get our cumulative miles for each day we can use pd.Series.cumsum. This will transform the series to hold the sum of all the previous values at each indexed position. "
   ]
  },
  {
   "cell_type": "code",
   "execution_count": 13,
   "id": "5403161c",
   "metadata": {},
   "outputs": [
    {
     "data": {
      "text/plain": [
       "1       55\n",
       "2       86\n",
       "3      146\n",
       "4      182\n",
       "5      212\n",
       "6      272\n",
       "7      324\n",
       "8      378\n",
       "9      448\n",
       "10     487\n",
       "11     549\n",
       "12     585\n",
       "13     633\n",
       "14     683\n",
       "15     713\n",
       "16     742\n",
       "17     773\n",
       "18     827\n",
       "19     878\n",
       "20     946\n",
       "21    1002\n",
       "22    1034\n",
       "23    1100\n",
       "24    1168\n",
       "25    1225\n",
       "26    1279\n",
       "27    1305\n",
       "28    1329\n",
       "29    1362\n",
       "30    1404\n",
       "dtype: int64"
      ]
     },
     "execution_count": 13,
     "metadata": {},
     "output_type": "execute_result"
    }
   ],
   "source": [
    "s_cummiles = s_miles.cumsum()\n",
    "s_cummiles"
   ]
  },
  {
   "cell_type": "markdown",
   "id": "80b24772",
   "metadata": {},
   "source": [
    "s_cummiles holds the cumulative miles ridden for each day of the month. s_miles holds the daily mile values. If we needed to work backwards to use the cumulative miles to figure out the total miles ridden each day we could use Series.diff() "
   ]
  },
  {
   "cell_type": "code",
   "execution_count": 15,
   "id": "b9b433f7",
   "metadata": {},
   "outputs": [
    {
     "data": {
      "text/plain": [
       "1      NaN\n",
       "2     31.0\n",
       "3     60.0\n",
       "4     36.0\n",
       "5     30.0\n",
       "6     60.0\n",
       "7     52.0\n",
       "8     54.0\n",
       "9     70.0\n",
       "10    39.0\n",
       "11    62.0\n",
       "12    36.0\n",
       "13    48.0\n",
       "14    50.0\n",
       "15    30.0\n",
       "16    29.0\n",
       "17    31.0\n",
       "18    54.0\n",
       "19    51.0\n",
       "20    68.0\n",
       "21    56.0\n",
       "22    32.0\n",
       "23    66.0\n",
       "24    68.0\n",
       "25    57.0\n",
       "26    54.0\n",
       "27    26.0\n",
       "28    24.0\n",
       "29    33.0\n",
       "30    42.0\n",
       "dtype: float64"
      ]
     },
     "execution_count": 15,
     "metadata": {},
     "output_type": "execute_result"
    }
   ],
   "source": [
    "s_cummiles.diff()"
   ]
  }
 ],
 "metadata": {
  "kernelspec": {
   "display_name": "Python 3 (ipykernel)",
   "language": "python",
   "name": "python3"
  },
  "language_info": {
   "codemirror_mode": {
    "name": "ipython",
    "version": 3
   },
   "file_extension": ".py",
   "mimetype": "text/x-python",
   "name": "python",
   "nbconvert_exporter": "python",
   "pygments_lexer": "ipython3",
   "version": "3.9.12"
  }
 },
 "nbformat": 4,
 "nbformat_minor": 5
}
